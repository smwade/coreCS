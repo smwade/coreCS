{
 "cells": [
  {
   "cell_type": "markdown",
   "metadata": {},
   "source": [
    "# Linked Lists\n",
    "---"
   ]
  },
  {
   "cell_type": "markdown",
   "metadata": {},
   "source": [
    "A liked list is a linear data structure where packages of data are *chained* together. To do this we put our data is in a container called a **NODE** and connect the nodes by pointing to other nodes."
   ]
  },
  {
   "cell_type": "markdown",
   "metadata": {},
   "source": [
    "<img src=\"./images/linked-list.png\">"
   ]
  },
  {
   "cell_type": "markdown",
   "metadata": {},
   "source": [
    "In the picture we are storing 3 integers and 3 pointers to the next one, just like a train. The last pointer signifies the end and points to nothing, or *NULL*. Implementing a Node in python is super easy:"
   ]
  },
  {
   "cell_type": "code",
   "execution_count": 1,
   "metadata": {
    "collapsed": true
   },
   "outputs": [],
   "source": [
    "class Node(object):\n",
    "    ''' A Node class for for my LinkedList.\n",
    "    \n",
    "    Attributes:\n",
    "      data : The data being stored\n",
    "      next_node : the node it points to\n",
    "    '''\n",
    "    \n",
    "    def __init__(self, data):\n",
    "        self.data = data\n",
    "        self.next_node = None\n",
    "        \n",
    "    def __repr__(self):\n",
    "        '''So we can print just the data from the node.'''\n",
    "        return str(self.data)"
   ]
  },
  {
   "cell_type": "code",
   "execution_count": 2,
   "metadata": {
    "collapsed": false
   },
   "outputs": [
    {
     "name": "stdout",
     "output_type": "stream",
     "text": [
      "100\n"
     ]
    }
   ],
   "source": [
    "# Now lets test our Node class\n",
    "myNode = Node(100)\n",
    "print(myNode)"
   ]
  },
  {
   "cell_type": "markdown",
   "metadata": {},
   "source": [
    "So now that we know we have a working Node class we need to create some sort of container where we can put them all chained together. This is what we will call out LinkedList. Now we need to think ahead, what do I want this to even do? The first thing I can think of is I want to be able to **add** new nodes the the list. I also want to **remove** nodes I don't want. So those two will definatly be methods for my LinkedList class. Besides that it would be really nice to see if an element is already in the list and how bout a nice way to print it just for fun."
   ]
  },
  {
   "cell_type": "code",
   "execution_count": 38,
   "metadata": {
    "collapsed": false,
    "hide_input": false
   },
   "outputs": [],
   "source": [
    "class LinkedList(object):\n",
    "    '''\n",
    "    Attributes:\n",
    "      head : The begining of the list\n",
    "      length : the size of the list\n",
    "    '''\n",
    "    \n",
    "    def __init__(self, head=None, length=0):\n",
    "        self.head = head\n",
    "        self.length = length\n",
    "        if head is not None:\n",
    "            self.length = 1\n",
    "        \n",
    "        \n",
    "    def add(self, data):\n",
    "        if self.head is None:\n",
    "            self.head = Node(data)        \n",
    "        else:\n",
    "            current_node = self.head\n",
    "            while current_node.next_node is not None:\n",
    "                current_node = current_node.next_node\n",
    "            current_node.next_node = Node(data)\n",
    "        self.length += 1\n",
    "        \n",
    "        \n",
    "    def remove(self, data):\n",
    "        current_node = self.head\n",
    "        previous = None\n",
    "        found = False\n",
    "        \n",
    "        while not found:\n",
    "            if current_node is None:\n",
    "                raise ValueError(\"%d is not in the list!\" % data)\n",
    "            if current_node.data == data:\n",
    "                found = True\n",
    "            else:\n",
    "                previous = current_node\n",
    "                current_node = current_node.next_node\n",
    "                \n",
    "        if previous is None:\n",
    "            self.head = current_node.next_node\n",
    "        else:\n",
    "            previous.next_node = current_node.next_node\n",
    "        self.length -= 1\n",
    "        \n",
    "        \n",
    "    def find(self, data):\n",
    "        if self.head is None:\n",
    "            raise Exception(\"Empty List.\")\n",
    "        else:\n",
    "            current_node = self.head  \n",
    "            \n",
    "        while current_node is not None:\n",
    "            if current_node.data == data:\n",
    "                return current_node\n",
    "            else:\n",
    "                current_node = current_node.next_node\n",
    "            \n",
    "        raise Exception(\"The value %d is not in the list.\" % data)\n",
    "        \n",
    "    def __len__(self):\n",
    "        return self.length\n",
    "        \n",
    "        \n",
    "    def __repr__(self):\n",
    "        current_node = self.head\n",
    "        print_list = []\n",
    "        while current_node is not None:\n",
    "            print_list.append(current_node.data)\n",
    "            current_node = current_node.next_node\n",
    "            \n",
    "        return str(print_list)"
   ]
  },
  {
   "cell_type": "code",
   "execution_count": 45,
   "metadata": {
    "collapsed": false
   },
   "outputs": [
    {
     "name": "stdout",
     "output_type": "stream",
     "text": [
      "[0, 1, 2, 3, 4, 5, 6, 7, 8, 9]\n",
      "length: 10\n",
      "----------------------------------------\n",
      "[0, 1, 2, 3, 4, 6, 7, 8, 9]\n",
      "length: 9\n",
      "----------------------------------------\n",
      "[1, 2, 3, 4, 6, 7, 8, 9]\n",
      "length: 8\n",
      "----------------------------------------\n",
      "[1, 2, 3, 4, 6, 7, 8]\n",
      "length: 7\n",
      "----------------------------------------\n",
      "Found 3\n"
     ]
    }
   ],
   "source": [
    "# Now lets test the LinkedList!\n",
    "my_list = LinkedList()\n",
    "\n",
    "for i in range(10):\n",
    "    my_list.add(i)\n",
    "    \n",
    "print(my_list)\n",
    "print(\"length: %d\" % len(my_list))\n",
    "\n",
    "print(\"-\"*40)\n",
    "my_list.remove(5)\n",
    "print(my_list)\n",
    "print(\"length: %d\" % len(my_list))\n",
    "\n",
    "print(\"-\"*40)\n",
    "my_list.remove(0)\n",
    "print(my_list)\n",
    "print(\"length: %d\" % len(my_list))\n",
    "\n",
    "print(\"-\"*40)\n",
    "my_list.remove(9)\n",
    "print(my_list)\n",
    "print(\"length: %d\" % len(my_list))\n",
    "\n",
    "print(\"-\"*40)\n",
    "if my_list.find(3):\n",
    "    print(\"Found 3\")"
   ]
  },
  {
   "cell_type": "markdown",
   "metadata": {},
   "source": [
    "## Linked Lists and Arrays"
   ]
  },
  {
   "cell_type": "markdown",
   "metadata": {},
   "source": [
    "An import question that arises with Linked Lists is why even use them when we have arrays? This is very important in computer science. We have 2 ways to accomplish the same task, but each comes with pros and cons and it really depends on the application for which we should chose "
   ]
  },
  {
   "cell_type": "markdown",
   "metadata": {},
   "source": [
    "<img src=\"./images/connected-list.png\">"
   ]
  }
 ],
 "metadata": {
  "kernelspec": {
   "display_name": "Python 2",
   "language": "python",
   "name": "python2"
  },
  "language_info": {
   "codemirror_mode": {
    "name": "ipython",
    "version": 2
   },
   "file_extension": ".py",
   "mimetype": "text/x-python",
   "name": "python",
   "nbconvert_exporter": "python",
   "pygments_lexer": "ipython2",
   "version": "2.7.11"
  },
  "toc": {
   "toc_cell": false,
   "toc_number_sections": true,
   "toc_threshold": 6,
   "toc_window_display": false
  }
 },
 "nbformat": 4,
 "nbformat_minor": 0
}
