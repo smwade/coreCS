{
 "cells": [
  {
   "cell_type": "markdown",
   "metadata": {},
   "source": [
    "<h1 style=\"line-height:7px;font-size:225%;font-family: Lucida Console;\"><center>Sorting in Python</center></h1>\n",
    "<center>`Sean Wade`</center>\n"
   ]
  },
  {
   "cell_type": "code",
   "execution_count": 104,
   "metadata": {
    "collapsed": true
   },
   "outputs": [],
   "source": [
    "import random\n",
    "\n",
    "def sort(sort_func, amount):\n",
    "    my_list = random.sample(xrange(100), amount)\n",
    "    return sort_func(my_list)"
   ]
  },
  {
   "cell_type": "markdown",
   "metadata": {},
   "source": [
    "### Bubble Sort"
   ]
  },
  {
   "cell_type": "code",
   "execution_count": 93,
   "metadata": {
    "collapsed": true
   },
   "outputs": [],
   "source": [
    "def bubble_sort(arr):\n",
    "    n = len(arr)\n",
    "    for i in xrange(n):\n",
    "        for j in xrange(i+1,n):\n",
    "            if arr[i] > arr[j]:\n",
    "                arr[i], arr[j] = arr[j], arr[i]\n",
    "    return arr"
   ]
  },
  {
   "cell_type": "code",
   "execution_count": 94,
   "metadata": {
    "collapsed": false
   },
   "outputs": [
    {
     "name": "stdout",
     "output_type": "stream",
     "text": [
      "[13, 15, 23, 35, 43, 65, 83, 84, 85, 93]\n"
     ]
    }
   ],
   "source": [
    "print sort(bubble_sort, 10)"
   ]
  },
  {
   "cell_type": "markdown",
   "metadata": {},
   "source": [
    "### Selection Sort"
   ]
  },
  {
   "cell_type": "code",
   "execution_count": 61,
   "metadata": {
    "collapsed": true
   },
   "outputs": [],
   "source": [
    "def selection_sort(arr):\n",
    "    n = len(arr)\n",
    "    for i in xrange(n):\n",
    "        min_index = i\n",
    "        for j in xrange(i+1,n):\n",
    "            if arr[j] < arr[min_index]:\n",
    "                min_index = j\n",
    "        arr[i], arr[min_index] = arr[min_index], arr[i]  \n",
    "    return arr"
   ]
  },
  {
   "cell_type": "code",
   "execution_count": 96,
   "metadata": {
    "collapsed": false
   },
   "outputs": [
    {
     "name": "stdout",
     "output_type": "stream",
     "text": [
      "[0, 21, 34, 47, 48, 59, 68, 85, 87, 98]\n"
     ]
    }
   ],
   "source": [
    "print sort(selection_sort, 10)"
   ]
  },
  {
   "cell_type": "markdown",
   "metadata": {},
   "source": [
    "### Insertion Sort"
   ]
  },
  {
   "cell_type": "code",
   "execution_count": 71,
   "metadata": {
    "collapsed": false
   },
   "outputs": [],
   "source": [
    "def insertion_sort(arr):\n",
    "    n = len(arr)\n",
    "    for i in xrange(1,n):\n",
    "        cur_val = arr[i]\n",
    "        pos = i\n",
    "        while pos > 0 and arr[pos-1] > cur_val:\n",
    "            arr[pos] = arr[pos-1]\n",
    "            pos -= 1\n",
    "        arr[pos] = cur_val      \n",
    "    return arr         "
   ]
  },
  {
   "cell_type": "code",
   "execution_count": 97,
   "metadata": {
    "collapsed": false
   },
   "outputs": [
    {
     "name": "stdout",
     "output_type": "stream",
     "text": [
      "[7, 20, 27, 34, 45, 61, 75, 83, 85, 86]\n"
     ]
    }
   ],
   "source": [
    "print sort(insertion_sort, 10)"
   ]
  },
  {
   "cell_type": "markdown",
   "metadata": {},
   "source": [
    "### Merge Sort"
   ]
  },
  {
   "cell_type": "code",
   "execution_count": 86,
   "metadata": {
    "collapsed": false,
    "hide_input": false
   },
   "outputs": [],
   "source": [
    "# 1st implementation\n",
    "def merge_sort(arr):\n",
    "    if len(arr) <= 1:\n",
    "        return arr\n",
    "    middle = len(arr) // 2\n",
    "    left = merge_sort(arr[:middle])\n",
    "    right = merge_sort(arr[middle:])\n",
    "    return merge(left, right)\n",
    "\n",
    "def merge(left, right):\n",
    "    if not left:\n",
    "        return right\n",
    "    if not right:\n",
    "        return left\n",
    "    if left[0] < right[0]:\n",
    "        return [left[0]] + merge(left[1:], right)\n",
    "    else:\n",
    "        return [right[0]] + merge(left, right[1:])"
   ]
  },
  {
   "cell_type": "code",
   "execution_count": 100,
   "metadata": {
    "collapsed": true
   },
   "outputs": [],
   "source": [
    "# 2nd implementation\n",
    "def merge_sort_2(arr):\n",
    "    if len(arr) > 1:\n",
    "        middle = len(arr) // 2\n",
    "        left_arr = arr[:middle]\n",
    "        right_arr = arr[middle:]\n",
    "        \n",
    "        merge_sort_2(left_arr)\n",
    "        merge_sort_2(right_arr)\n",
    "        \n",
    "        i, j, k = 0, 0, 0\n",
    "        while i < len(left_arr) and j < len(right_arr):\n",
    "            if left_arr[i] < right_arr[j]:\n",
    "                arr[k] = left_arr[i]\n",
    "                i += 1\n",
    "            else:\n",
    "                arr[k] = right_arr[j]\n",
    "                j += 1\n",
    "            k += 1\n",
    "        \n",
    "        while i < len(left_arr):\n",
    "            arr[k] = left_arr[i]\n",
    "            i += 1\n",
    "            k += 1\n",
    "            \n",
    "        while j < len(right_arr):\n",
    "            arr[k] = right_arr[j]\n",
    "            j += 1\n",
    "            k += 1\n",
    "            \n",
    "    return arr"
   ]
  },
  {
   "cell_type": "code",
   "execution_count": 102,
   "metadata": {
    "collapsed": false
   },
   "outputs": [
    {
     "name": "stdout",
     "output_type": "stream",
     "text": [
      "[13, 30, 40, 43, 63, 70, 74, 79, 89, 98]\n",
      "[10, 12, 31, 38, 45, 52, 59, 87, 95, 96]\n"
     ]
    }
   ],
   "source": [
    "print sort(merge_sort, 10)\n",
    "print sort(merge_sort_2, 10)"
   ]
  },
  {
   "cell_type": "markdown",
   "metadata": {},
   "source": [
    "### Quick Sort"
   ]
  },
  {
   "cell_type": "code",
   "execution_count": 133,
   "metadata": {
    "collapsed": true
   },
   "outputs": [],
   "source": [
    "def quicksort(arr):\n",
    "    return quicksort_helper(arr, 0, len(arr)-1)\n",
    "\n",
    "def quicksort_helper(arr, start, end):\n",
    "    if start < end:\n",
    "        pivot = partition(arr, start, end)\n",
    "        quicksort_helper(arr, start, pivot-1)\n",
    "        quicksort_helper(arr, pivot+1, end)\n",
    "    return arr\n",
    "\n",
    "def partition(arr, start, end):\n",
    "    pivot_val = arr[start]\n",
    "    left = start + 1\n",
    "    right = end\n",
    "    done = False\n",
    "    while not done:\n",
    "        while left <= right and arr[left] <= pivot_val:\n",
    "            left += 1\n",
    "        while right >= left and arr[right] >= pivot_val:\n",
    "            right -= 1\n",
    "        if right < left:\n",
    "            done = True\n",
    "        else:\n",
    "            arr[left], arr[right] = arr[right], arr[left]\n",
    "    arr[start], arr[right] = arr[right], arr[start]\n",
    "    return right"
   ]
  },
  {
   "cell_type": "code",
   "execution_count": 135,
   "metadata": {
    "collapsed": false
   },
   "outputs": [
    {
     "name": "stdout",
     "output_type": "stream",
     "text": [
      "[3, 5, 6, 11, 24, 32, 46, 48, 62, 89]\n"
     ]
    }
   ],
   "source": [
    "print sort(quicksort, 10)"
   ]
  }
 ],
 "metadata": {
  "kernelspec": {
   "display_name": "Python 2",
   "language": "python",
   "name": "python2"
  },
  "language_info": {
   "codemirror_mode": {
    "name": "ipython",
    "version": 2
   },
   "file_extension": ".py",
   "mimetype": "text/x-python",
   "name": "python",
   "nbconvert_exporter": "python",
   "pygments_lexer": "ipython2",
   "version": "2.7.11"
  },
  "toc": {
   "toc_cell": false,
   "toc_number_sections": false,
   "toc_section_display": "none",
   "toc_threshold": 6,
   "toc_window_display": false
  }
 },
 "nbformat": 4,
 "nbformat_minor": 0
}
