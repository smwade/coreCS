{
 "cells": [
  {
   "cell_type": "markdown",
   "metadata": {},
   "source": [
    "# Heaps\n",
    "Sean Wade"
   ]
  },
  {
   "cell_type": "markdown",
   "metadata": {},
   "source": [
    "A heap is a very powerful data structure that is effective for strictly accessing the largest or smallest elements. An example of this is a priority queue for a printer finding the most important tasks.\n",
    "\n",
    "This method of structuring our data is suprisingly simple and easy to implement. \n",
    "Heaps are trees with 2 main rules:\n",
    " - always fill new nodes in from left to right\n",
    " - parents are always less than or equal to their children"
   ]
  },
  {
   "cell_type": "markdown",
   "metadata": {},
   "source": [
    "<img src=\"./images/min-heap.jpg\">"
   ]
  },
  {
   "cell_type": "markdown",
   "metadata": {},
   "source": [
    "But what if we have to insert a value at the bottom that is smaller than its parent? This brings us to the operations associated with heaps, siftup and siftdown. If it is smaller we simply take the smaller of the two children and move that node up until all the rules are obeyed again. Doing it this way means it is very cheap to sort ($n\\log n$)."
   ]
  },
  {
   "cell_type": "markdown",
   "metadata": {},
   "source": [
    "### Heaps as Arrays"
   ]
  },
  {
   "cell_type": "markdown",
   "metadata": {},
   "source": [
    "As we already know trees can be implemented with actual nodes and pointers, or simply with an array. Most heaps are implemented in arrays as it is simple with low overhead. To follow all the rules this time all we have to do is make sure that all the parents are less than their children. That is:\n",
    "- $a[k] \\leq a[(2*k)+1]$\n",
    "- $a[k] \\leq a[(2*k)+2]$"
   ]
  },
  {
   "cell_type": "markdown",
   "metadata": {},
   "source": [
    "## Python Implementation"
   ]
  },
  {
   "cell_type": "code",
   "execution_count": 13,
   "metadata": {
    "collapsed": true
   },
   "outputs": [],
   "source": [
    "import heapq\n",
    "import random"
   ]
  },
  {
   "cell_type": "markdown",
   "metadata": {},
   "source": [
    "We can add to our heap with heappush and take the smallest element with heappop."
   ]
  },
  {
   "cell_type": "code",
   "execution_count": 14,
   "metadata": {
    "collapsed": false
   },
   "outputs": [
    {
     "name": "stdout",
     "output_type": "stream",
     "text": [
      "[14, 15, 22, 31, 16, 48, 42, 94, 51, 40]\n"
     ]
    }
   ],
   "source": [
    "heap = []\n",
    "for _ in range(10):\n",
    "    heapq.heappush(heap,random.randint(1,100))\n",
    "print heap"
   ]
  },
  {
   "cell_type": "markdown",
   "metadata": {},
   "source": [
    "If we are starting with an unordered array it is simple just to use the heapify method. This uses sifting to put it in the right order."
   ]
  },
  {
   "cell_type": "code",
   "execution_count": 22,
   "metadata": {
    "collapsed": false
   },
   "outputs": [
    {
     "name": "stdout",
     "output_type": "stream",
     "text": [
      "[84, 91, 4, 85, 88, 10, 43, 17, 48, 20]\n"
     ]
    }
   ],
   "source": [
    "regular_list = random.sample(range(100),10)\n",
    "print regular_list"
   ]
  },
  {
   "cell_type": "code",
   "execution_count": 23,
   "metadata": {
    "collapsed": false
   },
   "outputs": [
    {
     "name": "stdout",
     "output_type": "stream",
     "text": [
      "[4, 17, 10, 48, 20, 84, 43, 85, 91, 88]\n"
     ]
    }
   ],
   "source": [
    "heapq.heapify(regular_list)\n",
    "heap = regular_list\n",
    "print heap"
   ]
  },
  {
   "cell_type": "markdown",
   "metadata": {},
   "source": [
    "Another usefull thing about heaps is they can be used to sort a list is $O(n\\log n)$ time."
   ]
  },
  {
   "cell_type": "code",
   "execution_count": 24,
   "metadata": {
    "collapsed": true
   },
   "outputs": [],
   "source": [
    "def heapsort(unsorted_list):\n",
    "    heap = []\n",
    "    for element in unsorted_list:\n",
    "        heapq.heappush(heap, element)\n",
    "    return [heapq.heappop(heap) for i in range(len(heap))]"
   ]
  },
  {
   "cell_type": "code",
   "execution_count": 28,
   "metadata": {
    "collapsed": false
   },
   "outputs": [
    {
     "name": "stdout",
     "output_type": "stream",
     "text": [
      "[8, 9, 10, 13, 14, 20, 23, 26, 30, 34, 39, 40, 43, 45, 47, 52, 59, 62, 70, 74, 79, 87, 89, 91, 94]\n"
     ]
    }
   ],
   "source": [
    "print heapsort(random.sample(range(100),25))"
   ]
  }
 ],
 "metadata": {
  "kernelspec": {
   "display_name": "Python 2",
   "language": "python",
   "name": "python2"
  },
  "language_info": {
   "codemirror_mode": {
    "name": "ipython",
    "version": 2
   },
   "file_extension": ".py",
   "mimetype": "text/x-python",
   "name": "python",
   "nbconvert_exporter": "python",
   "pygments_lexer": "ipython2",
   "version": "2.7.11"
  }
 },
 "nbformat": 4,
 "nbformat_minor": 0
}
