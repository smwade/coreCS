{
 "cells": [
  {
   "cell_type": "code",
   "execution_count": 1,
   "metadata": {
    "collapsed": true
   },
   "outputs": [],
   "source": [
    "from collections import deque\n",
    "import sys\n",
    "from io import StringIO"
   ]
  },
  {
   "cell_type": "code",
   "execution_count": 11,
   "metadata": {
    "collapsed": false
   },
   "outputs": [],
   "source": [
    "class Node(object):\n",
    "    \n",
    "    def __init__(self, data):\n",
    "        self.data = data\n",
    "        self.left = None\n",
    "        self.right = None\n",
    "        \n",
    "    def __repr__(self):\n",
    "        return str(self.data)\n",
    "        \n",
    "class BST(object):\n",
    "    ''' \n",
    "    A simple implementation of a binary search tree.\n",
    "    Memebers:\n",
    "       root (Node)\n",
    "    '''\n",
    "    \n",
    "    def __init__(self):\n",
    "        self.root = None\n",
    "        \n",
    "    def add(self, data):\n",
    "        if self.root is None:\n",
    "            self.root = Node(data)\n",
    "            return\n",
    "        cur_node = self.root\n",
    "        while cur_node is not None:\n",
    "            if data < cur_node.data:\n",
    "                if cur_node.left is not None:\n",
    "                    cur_node = cur_node.left\n",
    "                else:\n",
    "                    cur_node.left = Node(data)\n",
    "                    return\n",
    "            elif data > cur_node.data:\n",
    "                if cur_node.right is not None:\n",
    "                    cur_node = cur_node.right\n",
    "                else:\n",
    "                    cur_node.right = Node(data)\n",
    "                    return\n",
    "            else:\n",
    "                raise ValueError(\"%d is already in the tree...\" % data)\n",
    "                \n",
    "    def find(self, data):\n",
    "        if self.root is None:\n",
    "            raise ValueError(\"%d is not in the tree\" % data)\n",
    "        cur_node = self.root\n",
    "        while cur_node is not None:\n",
    "            if data < cur_node.data:\n",
    "                cur_node = cur_node.left\n",
    "            elif data > cur_node.data:\n",
    "                cur_node = cur_node.right\n",
    "            else:\n",
    "                return cur_node\n",
    "            \n",
    "    def remove(self, data):\n",
    "        node_to_remove = self.find(data)\n",
    "        if node_to_remove.left is not None and node_to_remove.right is not None:\n",
    "            \n",
    "        elif node_to_remove.left is not None:\n",
    "            \n",
    "    \n",
    "    def _inOrder(self, node):\n",
    "        if node is not None:\n",
    "            self._inOrder(node.left)\n",
    "            print(node.data, end=\" \")\n",
    "            self._inOrder(node.right)\n",
    "            \n",
    "    def _preOrder(self, node):\n",
    "        if node is not None:\n",
    "            print(node.data, end=\" \")\n",
    "            self._preOrder(node.left)\n",
    "            self._preOrder(node.right)\n",
    "            \n",
    "    def _postOrder(self, node):\n",
    "        if node is not None:\n",
    "            self._postOrder(node.left)\n",
    "            self._postOrder(node.right)\n",
    "            print(node.data, end=\" \")\n",
    "    \n",
    "    def toString(self, style):\n",
    "        if style == 'inOrder':\n",
    "            self._inOrder(self.root)\n",
    "        elif style == 'preOrder':\n",
    "            self._preOrder(self.root)\n",
    "        elif style == 'postOrder':\n",
    "            self._postOrder(self.root)"
   ]
  },
  {
   "cell_type": "code",
   "execution_count": 12,
   "metadata": {
    "collapsed": false
   },
   "outputs": [
    {
     "name": "stdout",
     "output_type": "stream",
     "text": [
      "8\n"
     ]
    }
   ],
   "source": [
    "t = Node(8)\n",
    "print(t.data)"
   ]
  },
  {
   "cell_type": "code",
   "execution_count": 13,
   "metadata": {
    "collapsed": false
   },
   "outputs": [],
   "source": [
    "bst = BST()\n",
    "bst.add(5)\n",
    "bst.add(10)\n",
    "bst.add(2)\n",
    "bst.add(3)\n",
    "bst.add(1)\n",
    "bst.add(8)"
   ]
  },
  {
   "cell_type": "code",
   "execution_count": 14,
   "metadata": {
    "collapsed": false
   },
   "outputs": [
    {
     "name": "stdout",
     "output_type": "stream",
     "text": [
      "1 2 3 5 8 10 "
     ]
    }
   ],
   "source": [
    "bst.toString('inOrder')"
   ]
  },
  {
   "cell_type": "code",
   "execution_count": null,
   "metadata": {
    "collapsed": true
   },
   "outputs": [],
   "source": []
  }
 ],
 "metadata": {
  "kernelspec": {
   "display_name": "Python 3",
   "language": "python",
   "name": "python3"
  },
  "language_info": {
   "codemirror_mode": {
    "name": "ipython",
    "version": 3
   },
   "file_extension": ".py",
   "mimetype": "text/x-python",
   "name": "python",
   "nbconvert_exporter": "python",
   "pygments_lexer": "ipython3",
   "version": "3.5.1"
  }
 },
 "nbformat": 4,
 "nbformat_minor": 0
}
